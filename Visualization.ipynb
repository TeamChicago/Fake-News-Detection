{
 "cells": [
  {
   "cell_type": "code",
   "execution_count": 2,
   "id": "moving-unemployment",
   "metadata": {},
   "outputs": [],
   "source": [
    "import pandas as pd\n",
    "import numpy as np\n",
    "import matplotlib.pyplot as plt"
   ]
  },
  {
   "cell_type": "code",
   "execution_count": 3,
   "id": "animated-shaft",
   "metadata": {},
   "outputs": [],
   "source": [
    "fake_data = pd.read_csv('./dataset/fake.csv')\n",
    "true_data = pd.read_csv('./dataset/true.csv')"
   ]
  },
  {
   "cell_type": "code",
   "execution_count": 99,
   "id": "extraordinary-consumption",
   "metadata": {},
   "outputs": [
    {
     "data": {
      "text/html": [
       "<div>\n",
       "<style scoped>\n",
       "    .dataframe tbody tr th:only-of-type {\n",
       "        vertical-align: middle;\n",
       "    }\n",
       "\n",
       "    .dataframe tbody tr th {\n",
       "        vertical-align: top;\n",
       "    }\n",
       "\n",
       "    .dataframe thead th {\n",
       "        text-align: right;\n",
       "    }\n",
       "</style>\n",
       "<table border=\"1\" class=\"dataframe\">\n",
       "  <thead>\n",
       "    <tr style=\"text-align: right;\">\n",
       "      <th></th>\n",
       "      <th>title</th>\n",
       "      <th>text</th>\n",
       "      <th>subject</th>\n",
       "      <th>date</th>\n",
       "      <th>cleaned_title</th>\n",
       "      <th>title_token</th>\n",
       "      <th>text_token</th>\n",
       "    </tr>\n",
       "  </thead>\n",
       "  <tbody>\n",
       "    <tr>\n",
       "      <th>0</th>\n",
       "      <td>Donald Trump Sends Out Embarrassing New Year’...</td>\n",
       "      <td>Donald Trump just couldn t wish all Americans ...</td>\n",
       "      <td>News</td>\n",
       "      <td>December 31, 2017</td>\n",
       "      <td>[donald, trump, sends, embarrassing, new, year...</td>\n",
       "      <td>[donald, trump, sends, embarrassing, new, year...</td>\n",
       "      <td>[donald, trump, wish, americans, happy, new, y...</td>\n",
       "    </tr>\n",
       "    <tr>\n",
       "      <th>1</th>\n",
       "      <td>Drunk Bragging Trump Staffer Started Russian ...</td>\n",
       "      <td>House Intelligence Committee Chairman Devin Nu...</td>\n",
       "      <td>News</td>\n",
       "      <td>December 31, 2017</td>\n",
       "      <td>[drunk, bragging, trump, staffer, started, rus...</td>\n",
       "      <td>[drunk, bragging, trump, staffer, started, rus...</td>\n",
       "      <td>[house, intelligence, committee, chairman, dev...</td>\n",
       "    </tr>\n",
       "    <tr>\n",
       "      <th>2</th>\n",
       "      <td>Sheriff David Clarke Becomes An Internet Joke...</td>\n",
       "      <td>On Friday, it was revealed that former Milwauk...</td>\n",
       "      <td>News</td>\n",
       "      <td>December 30, 2017</td>\n",
       "      <td>[sheriff, david, clarke, becomes, internet, jo...</td>\n",
       "      <td>[sheriff, david, clarke, becomes, internet, jo...</td>\n",
       "      <td>[friday, revealed, former, milwaukee, sheriff,...</td>\n",
       "    </tr>\n",
       "    <tr>\n",
       "      <th>3</th>\n",
       "      <td>Trump Is So Obsessed He Even Has Obama’s Name...</td>\n",
       "      <td>On Christmas day, Donald Trump announced that ...</td>\n",
       "      <td>News</td>\n",
       "      <td>December 29, 2017</td>\n",
       "      <td>[trump, obsessed, even, obamas, name, coded, w...</td>\n",
       "      <td>[trump, obsessed, even, obamas, name, coded, w...</td>\n",
       "      <td>[christmas, day, donald, trump, announced, wou...</td>\n",
       "    </tr>\n",
       "    <tr>\n",
       "      <th>4</th>\n",
       "      <td>Pope Francis Just Called Out Donald Trump Dur...</td>\n",
       "      <td>Pope Francis used his annual Christmas Day mes...</td>\n",
       "      <td>News</td>\n",
       "      <td>December 25, 2017</td>\n",
       "      <td>[pope, francis, called, donald, trump, christm...</td>\n",
       "      <td>[pope, francis, called, donald, trump, christm...</td>\n",
       "      <td>[pope, francis, used, annual, christmas, day, ...</td>\n",
       "    </tr>\n",
       "  </tbody>\n",
       "</table>\n",
       "</div>"
      ],
      "text/plain": [
       "                                               title  \\\n",
       "0   Donald Trump Sends Out Embarrassing New Year’...   \n",
       "1   Drunk Bragging Trump Staffer Started Russian ...   \n",
       "2   Sheriff David Clarke Becomes An Internet Joke...   \n",
       "3   Trump Is So Obsessed He Even Has Obama’s Name...   \n",
       "4   Pope Francis Just Called Out Donald Trump Dur...   \n",
       "\n",
       "                                                text subject  \\\n",
       "0  Donald Trump just couldn t wish all Americans ...    News   \n",
       "1  House Intelligence Committee Chairman Devin Nu...    News   \n",
       "2  On Friday, it was revealed that former Milwauk...    News   \n",
       "3  On Christmas day, Donald Trump announced that ...    News   \n",
       "4  Pope Francis used his annual Christmas Day mes...    News   \n",
       "\n",
       "                date                                      cleaned_title  \\\n",
       "0  December 31, 2017  [donald, trump, sends, embarrassing, new, year...   \n",
       "1  December 31, 2017  [drunk, bragging, trump, staffer, started, rus...   \n",
       "2  December 30, 2017  [sheriff, david, clarke, becomes, internet, jo...   \n",
       "3  December 29, 2017  [trump, obsessed, even, obamas, name, coded, w...   \n",
       "4  December 25, 2017  [pope, francis, called, donald, trump, christm...   \n",
       "\n",
       "                                         title_token  \\\n",
       "0  [donald, trump, sends, embarrassing, new, year...   \n",
       "1  [drunk, bragging, trump, staffer, started, rus...   \n",
       "2  [sheriff, david, clarke, becomes, internet, jo...   \n",
       "3  [trump, obsessed, even, obamas, name, coded, w...   \n",
       "4  [pope, francis, called, donald, trump, christm...   \n",
       "\n",
       "                                          text_token  \n",
       "0  [donald, trump, wish, americans, happy, new, y...  \n",
       "1  [house, intelligence, committee, chairman, dev...  \n",
       "2  [friday, revealed, former, milwaukee, sheriff,...  \n",
       "3  [christmas, day, donald, trump, announced, wou...  \n",
       "4  [pope, francis, used, annual, christmas, day, ...  "
      ]
     },
     "execution_count": 99,
     "metadata": {},
     "output_type": "execute_result"
    }
   ],
   "source": [
    "fake_data.head()"
   ]
  },
  {
   "cell_type": "code",
   "execution_count": 100,
   "id": "monthly-cartridge",
   "metadata": {},
   "outputs": [
    {
     "data": {
      "text/html": [
       "<div>\n",
       "<style scoped>\n",
       "    .dataframe tbody tr th:only-of-type {\n",
       "        vertical-align: middle;\n",
       "    }\n",
       "\n",
       "    .dataframe tbody tr th {\n",
       "        vertical-align: top;\n",
       "    }\n",
       "\n",
       "    .dataframe thead th {\n",
       "        text-align: right;\n",
       "    }\n",
       "</style>\n",
       "<table border=\"1\" class=\"dataframe\">\n",
       "  <thead>\n",
       "    <tr style=\"text-align: right;\">\n",
       "      <th></th>\n",
       "      <th>title</th>\n",
       "      <th>text</th>\n",
       "      <th>subject</th>\n",
       "      <th>date</th>\n",
       "      <th>title_token</th>\n",
       "      <th>text_token</th>\n",
       "    </tr>\n",
       "  </thead>\n",
       "  <tbody>\n",
       "    <tr>\n",
       "      <th>0</th>\n",
       "      <td>As U.S. budget fight looms, Republicans flip t...</td>\n",
       "      <td>WASHINGTON (Reuters) - The head of a conservat...</td>\n",
       "      <td>politicsNews</td>\n",
       "      <td>December 31, 2017</td>\n",
       "      <td>[us, budget, fight, looms, republicans, flip, ...</td>\n",
       "      <td>[washington, reuters, -, head, conservative, r...</td>\n",
       "    </tr>\n",
       "    <tr>\n",
       "      <th>1</th>\n",
       "      <td>U.S. military to accept transgender recruits o...</td>\n",
       "      <td>WASHINGTON (Reuters) - Transgender people will...</td>\n",
       "      <td>politicsNews</td>\n",
       "      <td>December 29, 2017</td>\n",
       "      <td>[us, military, accept, transgender, recruits, ...</td>\n",
       "      <td>[washington, reuters, -, transgender, people, ...</td>\n",
       "    </tr>\n",
       "    <tr>\n",
       "      <th>2</th>\n",
       "      <td>Senior U.S. Republican senator: 'Let Mr. Muell...</td>\n",
       "      <td>WASHINGTON (Reuters) - The special counsel inv...</td>\n",
       "      <td>politicsNews</td>\n",
       "      <td>December 31, 2017</td>\n",
       "      <td>[senior, us, republican, senator, let, mr, mue...</td>\n",
       "      <td>[washington, reuters, -, special, counsel, inv...</td>\n",
       "    </tr>\n",
       "    <tr>\n",
       "      <th>3</th>\n",
       "      <td>FBI Russia probe helped by Australian diplomat...</td>\n",
       "      <td>WASHINGTON (Reuters) - Trump campaign adviser ...</td>\n",
       "      <td>politicsNews</td>\n",
       "      <td>December 30, 2017</td>\n",
       "      <td>[fbi, russia, probe, helped, australian, diplo...</td>\n",
       "      <td>[washington, reuters, -, trump, campaign, advi...</td>\n",
       "    </tr>\n",
       "    <tr>\n",
       "      <th>4</th>\n",
       "      <td>Trump wants Postal Service to charge 'much mor...</td>\n",
       "      <td>SEATTLE/WASHINGTON (Reuters) - President Donal...</td>\n",
       "      <td>politicsNews</td>\n",
       "      <td>December 29, 2017</td>\n",
       "      <td>[trump, wants, postal, service, charge, much, ...</td>\n",
       "      <td>[seattlewashington, reuters, -, president, don...</td>\n",
       "    </tr>\n",
       "  </tbody>\n",
       "</table>\n",
       "</div>"
      ],
      "text/plain": [
       "                                               title  \\\n",
       "0  As U.S. budget fight looms, Republicans flip t...   \n",
       "1  U.S. military to accept transgender recruits o...   \n",
       "2  Senior U.S. Republican senator: 'Let Mr. Muell...   \n",
       "3  FBI Russia probe helped by Australian diplomat...   \n",
       "4  Trump wants Postal Service to charge 'much mor...   \n",
       "\n",
       "                                                text       subject  \\\n",
       "0  WASHINGTON (Reuters) - The head of a conservat...  politicsNews   \n",
       "1  WASHINGTON (Reuters) - Transgender people will...  politicsNews   \n",
       "2  WASHINGTON (Reuters) - The special counsel inv...  politicsNews   \n",
       "3  WASHINGTON (Reuters) - Trump campaign adviser ...  politicsNews   \n",
       "4  SEATTLE/WASHINGTON (Reuters) - President Donal...  politicsNews   \n",
       "\n",
       "                 date                                        title_token  \\\n",
       "0  December 31, 2017   [us, budget, fight, looms, republicans, flip, ...   \n",
       "1  December 29, 2017   [us, military, accept, transgender, recruits, ...   \n",
       "2  December 31, 2017   [senior, us, republican, senator, let, mr, mue...   \n",
       "3  December 30, 2017   [fbi, russia, probe, helped, australian, diplo...   \n",
       "4  December 29, 2017   [trump, wants, postal, service, charge, much, ...   \n",
       "\n",
       "                                          text_token  \n",
       "0  [washington, reuters, -, head, conservative, r...  \n",
       "1  [washington, reuters, -, transgender, people, ...  \n",
       "2  [washington, reuters, -, special, counsel, inv...  \n",
       "3  [washington, reuters, -, trump, campaign, advi...  \n",
       "4  [seattlewashington, reuters, -, president, don...  "
      ]
     },
     "execution_count": 100,
     "metadata": {},
     "output_type": "execute_result"
    }
   ],
   "source": [
    "true_data.head()"
   ]
  },
  {
   "cell_type": "markdown",
   "id": "decreased-syracuse",
   "metadata": {},
   "source": [
    "## 간단한 data preprocessing & visualization"
   ]
  },
  {
   "cell_type": "code",
   "execution_count": 70,
   "id": "thousand-guarantee",
   "metadata": {},
   "outputs": [
    {
     "name": "stderr",
     "output_type": "stream",
     "text": [
      "[nltk_data] Downloading package punkt to\n",
      "[nltk_data]     C:\\Users\\JDhyeok\\AppData\\Roaming\\nltk_data...\n",
      "[nltk_data]   Unzipping tokenizers\\punkt.zip.\n"
     ]
    },
    {
     "data": {
      "text/plain": [
       "True"
      ]
     },
     "execution_count": 70,
     "metadata": {},
     "output_type": "execute_result"
    }
   ],
   "source": [
    "import nltk\n",
    "import re\n",
    "nltk.download('punkt')"
   ]
  },
  {
   "cell_type": "code",
   "execution_count": 74,
   "id": "unnecessary-japan",
   "metadata": {},
   "outputs": [],
   "source": [
    "def data_preprocessing(text):\n",
    "    \n",
    "    # punctuation 제거\n",
    "    text = re.sub(\"[^-9A-Za-z ]\", \"\" , text)\n",
    "    text=re.sub(\"<.*?>\", ' ', text) \n",
    "\n",
    "    # 소문자 변환\n",
    "    text = text.lower()\n",
    "    \n",
    "    #Tokenization\n",
    "    tokens = nltk.tokenize.word_tokenize(text)\n",
    "    \n",
    "    # stopword 제거\n",
    "    stopwords = nltk.corpus.stopwords.words('english')\n",
    "    ret = []\n",
    "    for w in tokens:\n",
    "        if w not in stopwords:\n",
    "            ret.append(w)\n",
    "    tokens = ret\n",
    "\n",
    "    # Lemmatization & Stemming\n",
    "    ps = nltk.PorterStemmer()\n",
    "    text = [ps.stem(word) for word in tokens]\n",
    "    \n",
    "    return tokens"
   ]
  },
  {
   "cell_type": "code",
   "execution_count": 80,
   "id": "activated-airline",
   "metadata": {},
   "outputs": [],
   "source": [
    "fake_data['title_token'] = fake_data['title'].apply(data_preprocessing)\n",
    "true_data['title_token'] = true_data['title'].apply(data_preprocessing)\n",
    "\n",
    "fake_data['text_token'] = fake_data['text'].apply(data_preprocessing)\n",
    "true_data['text_token'] = true_data['text'].apply(data_preprocessing)"
   ]
  },
  {
   "cell_type": "code",
   "execution_count": 84,
   "id": "tracked-huntington",
   "metadata": {},
   "outputs": [
    {
     "name": "stdout",
     "output_type": "stream",
     "text": [
      "['News' 'politics' 'Government News' 'left-news' 'US_News' 'Middle-east']\n",
      "['politicsNews' 'worldnews']\n"
     ]
    },
    {
     "data": {
      "text/plain": [
       "News               9050\n",
       "politics           6841\n",
       "left-news          4459\n",
       "Government News    1570\n",
       "US_News             783\n",
       "Middle-east         778\n",
       "Name: subject, dtype: int64"
      ]
     },
     "execution_count": 84,
     "metadata": {},
     "output_type": "execute_result"
    }
   ],
   "source": [
    "print(fake_data['subject'].unique())\n",
    "print(true_data['subject'].unique())"
   ]
  },
  {
   "cell_type": "code",
   "execution_count": 97,
   "id": "fitting-school",
   "metadata": {},
   "outputs": [
    {
     "data": {
      "image/png": "[encoded data removed]",
      "text/plain": [
       "<Figure size 432x288 with 1 Axes>"
      ]
     },
     "metadata": {
      "needs_background": "light"
     },
     "output_type": "display_data"
    }
   ],
   "source": [
    "plt.bar(fake_data['subject'].unique(), fake_data['subject'].value_counts())\n",
    "plt.xlabel('subjects')\n",
    "plt.ylabel('# of sujects')\n",
    "plt.xticks(rotation=40)\n",
    "plt.show()"
   ]
  },
  {
   "cell_type": "code",
   "execution_count": 98,
   "id": "consecutive-prairie",
   "metadata": {},
   "outputs": [
    {
     "data": {
      "image/png": "[encoded data removed]",
      "text/plain": [
       "<Figure size 432x288 with 1 Axes>"
      ]
     },
     "metadata": {
      "needs_background": "light"
     },
     "output_type": "display_data"
    }
   ],
   "source": [
    "plt.bar(true_data['subject'].unique(), true_data['subject'].value_counts())\n",
    "plt.xlabel('subjects')\n",
    "plt.ylabel('# of sujects')\n",
    "plt.xticks(rotation=40)\n",
    "plt.show()"
   ]
  },
  {
   "cell_type": "code",
   "execution_count": 38,
   "id": "super-match",
   "metadata": {},
   "outputs": [],
   "source": [
    "# fake_data = pd.read_csv('fake_data.csv')\n",
    "# true_data = pd.read_csv('true_data.csv')"
   ]
  },
  {
   "cell_type": "code",
   "execution_count": 39,
   "id": "acute-arbitration",
   "metadata": {},
   "outputs": [],
   "source": [
    "#!pip install wordcloud"
   ]
  },
  {
   "cell_type": "code",
   "execution_count": 40,
   "id": "sitting-initial",
   "metadata": {
    "scrolled": false
   },
   "outputs": [],
   "source": [
    "# y label 추가\n",
    "fake_data['is_fake'] = 1\n",
    "true_data['is_fake'] = 0\n",
    "fake_text = fake_data[['title_token','text_token','is_fake']]\n",
    "true_text = true_data[['title_token','text_token','is_fake']]"
   ]
  },
  {
   "cell_type": "code",
   "execution_count": 42,
   "id": "angry-geneva",
   "metadata": {},
   "outputs": [
    {
     "data": {
      "text/html": [
       "<div>\n",
       "<style scoped>\n",
       "    .dataframe tbody tr th:only-of-type {\n",
       "        vertical-align: middle;\n",
       "    }\n",
       "\n",
       "    .dataframe tbody tr th {\n",
       "        vertical-align: top;\n",
       "    }\n",
       "\n",
       "    .dataframe thead th {\n",
       "        text-align: right;\n",
       "    }\n",
       "</style>\n",
       "<table border=\"1\" class=\"dataframe\">\n",
       "  <thead>\n",
       "    <tr style=\"text-align: right;\">\n",
       "      <th></th>\n",
       "      <th>title_token</th>\n",
       "      <th>text_token</th>\n",
       "      <th>is_fake</th>\n",
       "    </tr>\n",
       "  </thead>\n",
       "  <tbody>\n",
       "    <tr>\n",
       "      <th>0</th>\n",
       "      <td>['donald', 'trump', 'sends', 'embarrassing', '...</td>\n",
       "      <td>['donald', 'trump', 'wish', 'americans', 'happ...</td>\n",
       "      <td>1</td>\n",
       "    </tr>\n",
       "    <tr>\n",
       "      <th>1</th>\n",
       "      <td>['drunk', 'bragging', 'trump', 'staffer', 'sta...</td>\n",
       "      <td>['house', 'intelligence', 'committee', 'chairm...</td>\n",
       "      <td>1</td>\n",
       "    </tr>\n",
       "    <tr>\n",
       "      <th>2</th>\n",
       "      <td>['sheriff', 'david', 'clarke', 'becomes', 'int...</td>\n",
       "      <td>['friday', 'revealed', 'former', 'milwaukee', ...</td>\n",
       "      <td>1</td>\n",
       "    </tr>\n",
       "    <tr>\n",
       "      <th>3</th>\n",
       "      <td>['trump', 'obsessed', 'even', 'obamas', 'name'...</td>\n",
       "      <td>['christmas', 'day', 'donald', 'trump', 'annou...</td>\n",
       "      <td>1</td>\n",
       "    </tr>\n",
       "    <tr>\n",
       "      <th>4</th>\n",
       "      <td>['pope', 'francis', 'called', 'donald', 'trump...</td>\n",
       "      <td>['pope', 'francis', 'used', 'annual', 'christm...</td>\n",
       "      <td>1</td>\n",
       "    </tr>\n",
       "    <tr>\n",
       "      <th>...</th>\n",
       "      <td>...</td>\n",
       "      <td>...</td>\n",
       "      <td>...</td>\n",
       "    </tr>\n",
       "    <tr>\n",
       "      <th>44893</th>\n",
       "      <td>['fully', 'committed', 'nato', 'backs', 'new',...</td>\n",
       "      <td>['brussels', 'reuters', '-', 'nato', 'allies',...</td>\n",
       "      <td>0</td>\n",
       "    </tr>\n",
       "    <tr>\n",
       "      <th>44894</th>\n",
       "      <td>['lexisnexis', 'withdrew', 'two', 'products', ...</td>\n",
       "      <td>['london', 'reuters', '-', 'lexisnexis', 'prov...</td>\n",
       "      <td>0</td>\n",
       "    </tr>\n",
       "    <tr>\n",
       "      <th>44895</th>\n",
       "      <td>['minsk', 'cultural', 'hub', 'becomes', 'autho...</td>\n",
       "      <td>['minsk', 'reuters', '-', 'shadow', 'disused',...</td>\n",
       "      <td>0</td>\n",
       "    </tr>\n",
       "    <tr>\n",
       "      <th>44896</th>\n",
       "      <td>['vatican', 'upbeat', 'possibility', 'pope', '...</td>\n",
       "      <td>['moscow', 'reuters', '-', 'vatican', 'secreta...</td>\n",
       "      <td>0</td>\n",
       "    </tr>\n",
       "    <tr>\n",
       "      <th>44897</th>\n",
       "      <td>['indonesia', 'buy', 'billion', 'worth', 'russ...</td>\n",
       "      <td>['jakarta', 'reuters', '-', 'indonesia', 'buy'...</td>\n",
       "      <td>0</td>\n",
       "    </tr>\n",
       "  </tbody>\n",
       "</table>\n",
       "<p>44898 rows × 3 columns</p>\n",
       "</div>"
      ],
      "text/plain": [
       "                                             title_token  \\\n",
       "0      ['donald', 'trump', 'sends', 'embarrassing', '...   \n",
       "1      ['drunk', 'bragging', 'trump', 'staffer', 'sta...   \n",
       "2      ['sheriff', 'david', 'clarke', 'becomes', 'int...   \n",
       "3      ['trump', 'obsessed', 'even', 'obamas', 'name'...   \n",
       "4      ['pope', 'francis', 'called', 'donald', 'trump...   \n",
       "...                                                  ...   \n",
       "44893  ['fully', 'committed', 'nato', 'backs', 'new',...   \n",
       "44894  ['lexisnexis', 'withdrew', 'two', 'products', ...   \n",
       "44895  ['minsk', 'cultural', 'hub', 'becomes', 'autho...   \n",
       "44896  ['vatican', 'upbeat', 'possibility', 'pope', '...   \n",
       "44897  ['indonesia', 'buy', 'billion', 'worth', 'russ...   \n",
       "\n",
       "                                              text_token  is_fake  \n",
       "0      ['donald', 'trump', 'wish', 'americans', 'happ...        1  \n",
       "1      ['house', 'intelligence', 'committee', 'chairm...        1  \n",
       "2      ['friday', 'revealed', 'former', 'milwaukee', ...        1  \n",
       "3      ['christmas', 'day', 'donald', 'trump', 'annou...        1  \n",
       "4      ['pope', 'francis', 'used', 'annual', 'christm...        1  \n",
       "...                                                  ...      ...  \n",
       "44893  ['brussels', 'reuters', '-', 'nato', 'allies',...        0  \n",
       "44894  ['london', 'reuters', '-', 'lexisnexis', 'prov...        0  \n",
       "44895  ['minsk', 'reuters', '-', 'shadow', 'disused',...        0  \n",
       "44896  ['moscow', 'reuters', '-', 'vatican', 'secreta...        0  \n",
       "44897  ['jakarta', 'reuters', '-', 'indonesia', 'buy'...        0  \n",
       "\n",
       "[44898 rows x 3 columns]"
      ]
     },
     "execution_count": 42,
     "metadata": {},
     "output_type": "execute_result"
    }
   ],
   "source": [
    "dataset = pd.concat([fake_text,true_text],ignore_index=True)\n",
    "dataset"
   ]
  },
  {
   "cell_type": "code",
   "execution_count": 43,
   "id": "oriented-dietary",
   "metadata": {},
   "outputs": [],
   "source": [
    "from IPython.display import set_matplotlib_formats\n",
    "import matplotlib\n",
    "from wordcloud import WordCloud"
   ]
  },
  {
   "cell_type": "code",
   "execution_count": 44,
   "id": "monetary-oxide",
   "metadata": {},
   "outputs": [],
   "source": [
    "def token2text(tokens):\n",
    "    ret = \"\"\n",
    "    for w in tokens:\n",
    "        ret += w\n",
    "    return ret"
   ]
  },
  {
   "cell_type": "code",
   "execution_count": 45,
   "id": "orange-computer",
   "metadata": {},
   "outputs": [],
   "source": [
    "text = fake_data['text_token'].apply(token2text)"
   ]
  },
  {
   "cell_type": "code",
   "execution_count": null,
   "id": "consistent-omega",
   "metadata": {},
   "outputs": [],
   "source": []
  }
 ],
 "metadata": {
  "kernelspec": {
   "display_name": "Python 3",
   "language": "python",
   "name": "python3"
  },
  "language_info": {
   "codemirror_mode": {
    "name": "ipython",
    "version": 3
   },
   "file_extension": ".py",
   "mimetype": "text/x-python",
   "name": "python",
   "nbconvert_exporter": "python",
   "pygments_lexer": "ipython3",
   "version": "3.8.8"
  }
 },
 "nbformat": 4,
 "nbformat_minor": 5
}
