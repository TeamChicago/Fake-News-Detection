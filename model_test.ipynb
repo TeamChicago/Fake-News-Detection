{
 "cells": [
  {
   "cell_type": "code",
   "execution_count": 1,
   "id": "nearby-walnut",
   "metadata": {},
   "outputs": [],
   "source": [
    "from transformers import BertTokenizer, BertForSequenceClassification\n",
    "import torch\n",
    "import torch.nn as nn\n",
    "import torch.optim as optim\n",
    "import torch.nn.functional as F\n",
    "\n",
    "# 쿠다없으면 cpu 사용\n",
    "device = torch.device('cuda') if torch.cuda.is_available() else torch.device('cpu')\n"
   ]
  },
  {
   "cell_type": "code",
   "execution_count": 2,
   "id": "individual-belgium",
   "metadata": {},
   "outputs": [
    {
     "name": "stdout",
     "output_type": "stream",
     "text": [
      "cuda\n"
     ]
    }
   ],
   "source": [
    "print(device)"
   ]
  },
  {
   "cell_type": "code",
   "execution_count": 3,
   "id": "actual-enforcement",
   "metadata": {},
   "outputs": [
    {
     "name": "stderr",
     "output_type": "stream",
     "text": [
      "Some weights of the model checkpoint at bert-base-uncased were not used when initializing BertForSequenceClassification: ['cls.predictions.bias', 'cls.predictions.transform.dense.weight', 'cls.predictions.transform.dense.bias', 'cls.predictions.decoder.weight', 'cls.seq_relationship.weight', 'cls.seq_relationship.bias', 'cls.predictions.transform.LayerNorm.weight', 'cls.predictions.transform.LayerNorm.bias']\n",
      "- This IS expected if you are initializing BertForSequenceClassification from the checkpoint of a model trained on another task or with another architecture (e.g. initializing a BertForSequenceClassification model from a BertForPreTraining model).\n",
      "- This IS NOT expected if you are initializing BertForSequenceClassification from the checkpoint of a model that you expect to be exactly identical (initializing a BertForSequenceClassification model from a BertForSequenceClassification model).\n",
      "Some weights of BertForSequenceClassification were not initialized from the model checkpoint at bert-base-uncased and are newly initialized: ['classifier.weight', 'classifier.bias']\n",
      "You should probably TRAIN this model on a down-stream task to be able to use it for predictions and inference.\n"
     ]
    }
   ],
   "source": [
    "model = BertForSequenceClassification.from_pretrained(\"bert-base-uncased\")\n"
   ]
  },
  {
   "cell_type": "code",
   "execution_count": 4,
   "id": "dramatic-knitting",
   "metadata": {},
   "outputs": [],
   "source": [
    "model.config.num_labels = 1"
   ]
  },
  {
   "cell_type": "code",
   "execution_count": 5,
   "id": "rubber-vacation",
   "metadata": {},
   "outputs": [],
   "source": [
    "for param in model.parameters():\n",
    "    param.requires_grad = False\n",
    "\n",
    "# bert-base의 H=768이기 때문\n",
    "model.classifier = nn.Sequential(\n",
    "    nn.Linear(768, 256),\n",
    "    nn.LeakyReLU(),\n",
    "    nn.Linear(256,64),\n",
    "    nn.LeakyReLU(),\n",
    "    nn.Linear(64, 2),\n",
    "    nn.Softmax(dim=1)\n",
    ")\n",
    "model = model.to(device)"
   ]
  },
  {
   "cell_type": "code",
   "execution_count": 6,
   "id": "wicked-tooth",
   "metadata": {},
   "outputs": [
    {
     "data": {
      "text/plain": [
       "<All keys matched successfully>"
      ]
     },
     "execution_count": 6,
     "metadata": {},
     "output_type": "execute_result"
    }
   ],
   "source": [
    "model.load_state_dict(torch.load(\"final_model.pt\"))"
   ]
  },
  {
   "cell_type": "code",
   "execution_count": null,
   "id": "disturbed-flush",
   "metadata": {},
   "outputs": [],
   "source": []
  },
  {
   "cell_type": "code",
   "execution_count": 7,
   "id": "black-coffee",
   "metadata": {},
   "outputs": [],
   "source": [
    "tokenizer = BertTokenizer.from_pretrained(\"bert-base-uncased\")\n",
    "def preprocess_text(text):\n",
    "    parts = []\n",
    "\n",
    "    text_len = len(text.split(' '))\n",
    "    max_parts = 5\n",
    "    nb_cuts = int(text_len / 300)\n",
    "    nb_cuts = min(nb_cuts, max_parts)\n",
    "    \n",
    "    \n",
    "    for i in range(nb_cuts + 1):\n",
    "        text_part = ' '.join(text.split(' ')[i * 300: (i + 1) * 300])\n",
    "        parts.append(tokenizer.encode(text_part, return_tensors=\"pt\", max_length=500).to(device))\n",
    "\n",
    "    return parts"
   ]
  },
  {
   "cell_type": "code",
   "execution_count": 8,
   "id": "million-design",
   "metadata": {},
   "outputs": [
    {
     "name": "stderr",
     "output_type": "stream",
     "text": [
      "Truncation was not explicitly activated but `max_length` is provided a specific value, please use `truncation=True` to explicitly truncate examples to max length. Defaulting to 'longest_first' truncation strategy. If you encode pairs of sequences (GLUE-style) with the tokenizer you can select this strategy more precisely by providing a specific strategy to `truncation`.\n"
     ]
    }
   ],
   "source": [
    "test = \"Democrats in the Texas Legislature staged a dramatic, late-night walkout on Sunday night to force the failure of a sweeping Republican overhaul of state election laws. The move, which deprived the session of the minimum number of lawmakers required for a vote before a midnight deadline, was a stunning setback for state Republicans who had made a new voting law one of their top priorities. The effort is not entirely dead, however. Gov. Greg Abbott, a Republican, indicated that he would call a special session of the Legislature, which could start as early as June 1, or Tuesday, to restart the process. The governor has said that he strongly supported an election bill, and in a statement he called the failure to reach one on Sunday “deeply disappointing.” He was widely expected to sign whatever measure Republicans passed. Election Integrity & Bail Reform were emergency items for this legislative session,” Mr. Abbott said on Twitter on Sunday night. “They will be added to the special session agenda.” He did not specify when the session would start. While Republicans would still be favored to pass a bill in a special session, the unexpected turn of events on Sunday presents a new hurdle in their push to enact a far-reaching election law that would install some of the most rigid voting restrictions in the country, and cement the state as one of the hardest in which to cast a ballot.\"\n",
    "RT = preprocess_text(test)"
   ]
  },
  {
   "cell_type": "code",
   "execution_count": 9,
   "id": "fluid-mission",
   "metadata": {},
   "outputs": [],
   "source": [
    "overall_output = torch.zeros((1,2)).to(device)\n",
    "\n",
    "for part in RT:\n",
    "    if len(part) > 0:\n",
    "        overall_output += model(part.reshape(1, -1))[0]\n",
    "        \n",
    "overall_output = F.softmax(overall_output[0], dim=-1)\n",
    "            \n",
    "result = overall_output.max(0)[1].float().item()"
   ]
  },
  {
   "cell_type": "code",
   "execution_count": 10,
   "id": "dated-heaven",
   "metadata": {},
   "outputs": [
    {
     "name": "stdout",
     "output_type": "stream",
     "text": [
      "Real_News\n"
     ]
    }
   ],
   "source": [
    "if result==0.0:\n",
    "    print(\"Real_News\")\n",
    "else:\n",
    "    print(\"Fake_News\")"
   ]
  },
  {
   "cell_type": "code",
   "execution_count": 11,
   "id": "progressive-throat",
   "metadata": {},
   "outputs": [],
   "source": [
    "text_parts =\"by nick bernabe following the recent mass arrests of  people at the dakota access pipeline construction site located near standing rock north dakota an anonymous donor just donated  million to bail out everyone who was arrested at the protests the news came after tamara francisfourkiller a tribal leader from the caddo nation tribe in caddo county oklahoma was arrested at standing rock francisfourkiller was released after spending two days in jail but her family says she was just an innocent observer in the clashes between militarized law enforcement and native american activists or water protectors  update   pm est a statement from red owl legal collectivenational lawyers guild that is advising standing rock has issued a statement saying the  million has not been received yet we are waiting on confirmation from the caddo nation tribe according to local news affiliate news on   family members of caddo nation chairwoman tamara francisfourkiller said an anonymous donor paid  million late saturday afternoon to release everyone arrested on thursday at the dakota access pipeline site they said however that francisfourkiller should not have been arrested in the first place though the donor who sent the  million remains anonymous it appears the person is connected to the caddo nation tribe in some way\"\n",
    "FT = preprocess_text(text_parts)"
   ]
  },
  {
   "cell_type": "code",
   "execution_count": 12,
   "id": "freelance-string",
   "metadata": {},
   "outputs": [],
   "source": [
    "overall_output = torch.zeros((1,2)).to(device)\n",
    "\n",
    "for part in FT:\n",
    "    if len(part) > 0:\n",
    "        overall_output += model(part.reshape(1, -1))[0]\n",
    "        \n",
    "overall_output = F.softmax(overall_output[0], dim=-1)\n",
    "            \n",
    "result = overall_output.max(0)[1].float().item()"
   ]
  },
  {
   "cell_type": "code",
   "execution_count": 13,
   "id": "preceding-decline",
   "metadata": {},
   "outputs": [
    {
     "name": "stdout",
     "output_type": "stream",
     "text": [
      "Fake_News\n"
     ]
    }
   ],
   "source": [
    "if result==0.0:\n",
    "    print(\"Real_News\")\n",
    "else:\n",
    "    print(\"Fake_News\")"
   ]
  },
  {
   "cell_type": "code",
   "execution_count": null,
   "id": "tribal-portugal",
   "metadata": {},
   "outputs": [],
   "source": []
  },
  {
   "cell_type": "code",
   "execution_count": null,
   "id": "federal-florida",
   "metadata": {},
   "outputs": [],
   "source": []
  },
  {
   "cell_type": "code",
   "execution_count": null,
   "id": "intimate-manual",
   "metadata": {},
   "outputs": [],
   "source": []
  }
 ],
 "metadata": {
  "kernelspec": {
   "display_name": "Python 3",
   "language": "python",
   "name": "python3"
  },
  "language_info": {
   "codemirror_mode": {
    "name": "ipython",
    "version": 3
   },
   "file_extension": ".py",
   "mimetype": "text/x-python",
   "name": "python",
   "nbconvert_exporter": "python",
   "pygments_lexer": "ipython3",
   "version": "3.8.8"
  }
 },
 "nbformat": 4,
 "nbformat_minor": 5
}
